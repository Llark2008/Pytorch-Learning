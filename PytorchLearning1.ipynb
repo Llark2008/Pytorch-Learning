{
  "nbformat": 4,
  "nbformat_minor": 0,
  "metadata": {
    "colab": {
      "provenance": [],
      "gpuType": "T4",
      "authorship_tag": "ABX9TyNl9hmFkEx/XePCHMLrSFG2",
      "include_colab_link": true
    },
    "kernelspec": {
      "name": "python3",
      "display_name": "Python 3"
    },
    "language_info": {
      "name": "python"
    },
    "accelerator": "GPU"
  },
  "cells": [
    {
      "cell_type": "markdown",
      "metadata": {
        "id": "view-in-github",
        "colab_type": "text"
      },
      "source": [
        "<a href=\"https://colab.research.google.com/github/Llark2008/Pytorch-Learning/blob/main/PytorchLearning1.ipynb\" target=\"_parent\"><img src=\"https://colab.research.google.com/assets/colab-badge.svg\" alt=\"Open In Colab\"/></a>"
      ]
    },
    {
      "cell_type": "code",
      "execution_count": 1,
      "metadata": {
        "id": "ROQsiaiuCOsY"
      },
      "outputs": [],
      "source": [
        "import torch\n",
        "import numpy as np"
      ]
    },
    {
      "cell_type": "markdown",
      "source": [
        "# Numpy array"
      ],
      "metadata": {
        "id": "A88giiGbFegd"
      }
    },
    {
      "cell_type": "code",
      "source": [
        "np1=np.random.rand(3,4)\n",
        "np1"
      ],
      "metadata": {
        "colab": {
          "base_uri": "https://localhost:8080/"
        },
        "id": "_-f8Z9EdFdZ_",
        "outputId": "31b29294-aab6-46ab-cbfe-3f5cca20fa64"
      },
      "execution_count": 3,
      "outputs": [
        {
          "output_type": "execute_result",
          "data": {
            "text/plain": [
              "array([[0.96622254, 0.27867913, 0.32249923, 0.62514158],\n",
              "       [0.31187396, 0.62308311, 0.10833456, 0.0033954 ],\n",
              "       [0.15826973, 0.53936144, 0.86485007, 0.88682364]])"
            ]
          },
          "metadata": {},
          "execution_count": 3
        }
      ]
    },
    {
      "cell_type": "markdown",
      "source": [
        "#Tensor"
      ],
      "metadata": {
        "id": "nRlciTw4F2de"
      }
    },
    {
      "cell_type": "code",
      "source": [
        "tensor2d=torch.randn(3,4)\n",
        "tensornew=torch.tensor(np1)\n",
        "tensornew"
      ],
      "metadata": {
        "colab": {
          "base_uri": "https://localhost:8080/"
        },
        "id": "9o6NLVqLF5Rm",
        "outputId": "12f0a732-ba74-4b15-f769-3db023475a7f"
      },
      "execution_count": 5,
      "outputs": [
        {
          "output_type": "execute_result",
          "data": {
            "text/plain": [
              "tensor([[0.9662, 0.2787, 0.3225, 0.6251],\n",
              "        [0.3119, 0.6231, 0.1083, 0.0034],\n",
              "        [0.1583, 0.5394, 0.8649, 0.8868]], dtype=torch.float64)"
            ]
          },
          "metadata": {},
          "execution_count": 5
        }
      ]
    }
  ]
}